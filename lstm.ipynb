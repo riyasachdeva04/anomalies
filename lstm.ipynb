{
  "nbformat": 4,
  "nbformat_minor": 0,
  "metadata": {
    "colab": {
      "provenance": []
    },
    "kernelspec": {
      "name": "python3",
      "display_name": "Python 3"
    },
    "language_info": {
      "name": "python"
    }
  },
  "cells": [
    {
      "cell_type": "code",
      "execution_count": null,
      "metadata": {
        "id": "cv0ssgF22QYn"
      },
      "outputs": [],
      "source": [
        "import numpy as np\n",
        "from keras.models import Sequential\n",
        "from keras.layers import LSTM, Input, Dropout\n",
        "from keras.layers import Dense\n",
        "from keras.layers import RepeatVector\n",
        "from keras.layers import TimeDistributed\n",
        "import pandas as pd\n",
        "from matplotlib import pyplot as plt\n",
        "from sklearn.preprocessing import MinMaxScaler, StandardScaler\n",
        "from keras.models import Model\n",
        "import seaborn as sns"
      ]
    },
    {
      "cell_type": "code",
      "source": [
        "df = pd.read_csv('/content/AAPL.csv')"
      ],
      "metadata": {
        "id": "h7Ed96q63rzF"
      },
      "execution_count": null,
      "outputs": []
    },
    {
      "cell_type": "code",
      "source": [
        "# @title\n",
        "df = df[['Date', 'Close']]\n",
        "df['Date'] = pd.to_datetime(df['Date'])"
      ],
      "metadata": {
        "id": "LEfpWlkM430W"
      },
      "execution_count": null,
      "outputs": []
    },
    {
      "cell_type": "code",
      "source": [
        "sns.lineplot(x=df['Date'], y=df['Close'])\n"
      ],
      "metadata": {
        "id": "aGVYs9XA432D"
      },
      "execution_count": null,
      "outputs": []
    },
    {
      "cell_type": "code",
      "source": [
        "df['Date'] = pd.to_datetime(df['Date'])"
      ],
      "metadata": {
        "id": "y0f5q0vO434l"
      },
      "execution_count": null,
      "outputs": []
    },
    {
      "cell_type": "code",
      "source": [
        "df = df[df['Date'] > '01-01-2000']\n",
        "train, test = df.loc[df['Date'] <= '2022-01-01'], df.loc[df['Date'] > '2022-01-01']\n"
      ],
      "metadata": {
        "id": "sm8fDfrI435-"
      },
      "execution_count": null,
      "outputs": []
    },
    {
      "cell_type": "code",
      "source": [
        "sns.lineplot(x = df['Date'], y = df['Close'])"
      ],
      "metadata": {
        "id": "urSp9Zf9437r"
      },
      "execution_count": null,
      "outputs": []
    },
    {
      "cell_type": "code",
      "source": [
        "scaler = StandardScaler()\n",
        "scaler = scaler.fit(train[['Close']])\n",
        "\n",
        "train['Close'] = scaler.transform(train[['Close']])\n",
        "test['Close'] = scaler.transform(test[['Close']])"
      ],
      "metadata": {
        "id": "v1j9jitc6uGM"
      },
      "execution_count": null,
      "outputs": []
    },
    {
      "cell_type": "code",
      "source": [
        "# how many time stamps to look back?\n",
        "seq_size = 30"
      ],
      "metadata": {
        "id": "ByqzTLFh6uH1"
      },
      "execution_count": null,
      "outputs": []
    },
    {
      "source": [
        "def make_sequence(x, y, seq_size=1):\n",
        "    x_values = []\n",
        "    y_values = []\n",
        "\n",
        "    for i in range(len(x)-seq_size):\n",
        "        x_values.append(x.iloc[i:(i+seq_size)].values)\n",
        "        y_values.append(y.iloc[i+seq_size])\n",
        "\n",
        "    return np.array(x_values), np.array(y_values)\n",
        "\n",
        "trainX, trainY = make_sequence(train[['Close']], train['Close'], seq_size)\n",
        "testX, testY = make_sequence(test[['Close']], test['Close'], seq_size)"
      ],
      "cell_type": "code",
      "metadata": {
        "id": "nvv8j9ugGOcF"
      },
      "execution_count": null,
      "outputs": []
    },
    {
      "cell_type": "code",
      "source": [
        "model = Sequential()\n",
        "model.add(LSTM(128, input_shape=(trainX.shape[1], trainX.shape[2])))\n",
        "model.add(Dropout(rate=0.2))\n",
        "\n",
        "model.add(RepeatVector(trainX.shape[1]))\n",
        "\n",
        "model.add(LSTM(128, return_sequences=True))\n",
        "model.add(Dropout(rate=0.2))\n",
        "model.add(TimeDistributed(Dense(trainX.shape[2])))\n",
        "model.compile(optimizer='adam', loss='mae')\n",
        "model.summary()"
      ],
      "metadata": {
        "id": "YOpdrW652knt"
      },
      "execution_count": null,
      "outputs": []
    },
    {
      "cell_type": "code",
      "source": [
        "history = model.fit(trainX, trainY, epochs=10, batch_size=32, validation_split=0.1, verbose=1)"
      ],
      "metadata": {
        "id": "aOm5krJU2rG-"
      },
      "execution_count": null,
      "outputs": []
    },
    {
      "cell_type": "code",
      "source": [
        "plt.plot(history.history['loss'], label='Training loss')\n",
        "plt.plot(history.history['val_loss'], label='Validation loss')\n",
        "plt.legend()"
      ],
      "metadata": {
        "id": "uoGgPuGO2rJL"
      },
      "execution_count": null,
      "outputs": []
    },
    {
      "cell_type": "code",
      "source": [
        "trainPredict = model.predict(trainX)\n",
        "trainMAE = np.mean(np.abs(trainPredict - trainX), axis=1)\n",
        "plt.hist(trainMAE, bins=30)\n",
        "max_trainMAE = 0.2"
      ],
      "metadata": {
        "id": "xmVPMv202rKr"
      },
      "execution_count": null,
      "outputs": []
    },
    {
      "cell_type": "code",
      "source": [
        "testPredict = model.predict(testX)\n",
        "testMAE = np.mean(np.abs(testPredict - testX), axis=1)\n",
        "plt.hist(testMAE, bins=30)"
      ],
      "metadata": {
        "id": "lyiF3LF72rMo"
      },
      "execution_count": null,
      "outputs": []
    },
    {
      "cell_type": "code",
      "source": [
        "anomaly_df = pd.DataFrame(test[seq_size:])\n",
        "anomaly_df['testMAE'] = testMAE\n",
        "anomaly_df['max_trainMAE'] = max_trainMAE\n",
        "anomaly_df['anomaly'] = anomaly_df['testMAE'] > anomaly_df['max_trainMAE']\n",
        "anomaly_df['Close'] = test[seq_size:]['Close']"
      ],
      "metadata": {
        "id": "Pje5B0di273x"
      },
      "execution_count": null,
      "outputs": []
    },
    {
      "cell_type": "code",
      "source": [
        "sns.lineplot(x=anomaly_df['Date'], y=anomaly_df['testMAE'])\n",
        "sns.lineplot(x=anomaly_df['Date'], y=anomaly_df['max_trainMAE'])"
      ],
      "metadata": {
        "id": "b9rVIYQj276q"
      },
      "execution_count": null,
      "outputs": []
    },
    {
      "cell_type": "code",
      "source": [
        "anomalies = anomaly_df.loc[anomaly_df['anomaly'] == True]"
      ],
      "metadata": {
        "id": "5QA5VflZ2780"
      },
      "execution_count": null,
      "outputs": []
    },
    {
      "cell_type": "code",
      "source": [
        "sns.lineplot(x=anomaly_df['Date'], y=scaler.inverse_transform(anomaly_df['Close']))\n",
        "sns.scatterplot(x=anomalies['Date'], y=scaler.inverse_transform(anomalies['Close']), color='r')"
      ],
      "metadata": {
        "id": "yey2Og-e3EwO"
      },
      "execution_count": null,
      "outputs": []
    },
    {
      "cell_type": "code",
      "source": [
        "from keras.models import Sequential\n",
        "from keras.layers import LSTM, RepeatVector, TimeDistributed, Dense, Dropout\n",
        "from keras.optimizers import Adam\n",
        "from sklearn.preprocessing import StandardScaler\n",
        "\n",
        "# Normalize data\n",
        "scaler = StandardScaler()\n",
        "trainX_scaled = scaler.fit_transform(trainX.reshape(-1, trainX.shape[-1])).reshape(trainX.shape)\n",
        "\n",
        "model = Sequential()\n",
        "model.add(LSTM(128, activation='relu', input_shape=(trainX.shape[1], trainX.shape[2]), return_sequences=True))\n",
        "model.add(Dropout(0.2))  # Dropout layer for regularization\n",
        "model.add(LSTM(64, activation='relu', return_sequences=True))\n",
        "model.add(LSTM(64, activation='relu', return_sequences=False))\n",
        "model.add(RepeatVector(trainX.shape[1]))\n",
        "model.add(LSTM(64, activation='relu', return_sequences=True))\n",
        "model.add(Dropout(0.2))  # Dropout layer for regularization\n",
        "model.add(LSTM(128, activation='relu', return_sequences=True))\n",
        "model.add(TimeDistributed(Dense(trainX.shape[2])))\n",
        "\n",
        "optimizer = Adam(learning_rate=0.001)\n",
        "model.compile(optimizer=optimizer, loss='mae')\n"
      ],
      "metadata": {
        "id": "W3BZNcGP9kfD"
      },
      "execution_count": null,
      "outputs": []
    }
  ]
}